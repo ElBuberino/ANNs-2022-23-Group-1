{
  "nbformat": 4,
  "nbformat_minor": 0,
  "metadata": {
    "colab": {
      "provenance": []
    },
    "kernelspec": {
      "name": "python3",
      "display_name": "Python 3"
    },
    "language_info": {
      "name": "python"
    }
  },
  "cells": [
    {
      "cell_type": "markdown",
      "source": [
        "Load data:"
      ],
      "metadata": {
        "id": "HveAfLU7ES5x"
      }
    },
    {
      "cell_type": "code",
      "execution_count": null,
      "metadata": {
        "id": "q_OYCuToZshd"
      },
      "outputs": [],
      "source": [
        "import tensorflow_datasets as tfds\n",
        "import tensorflow as tf\n",
        "import numpy as np\n",
        "(train_ds, test_ds), ds_info = tfds.load('mnist', split=['train', 'test'], as_supervised=True, with_info=True)"
      ]
    },
    {
      "cell_type": "markdown",
      "source": [
        "Preprocess data:"
      ],
      "metadata": {
        "id": "uyVjzc2SLOED"
      }
    },
    {
      "cell_type": "code",
      "source": [
        "def prepare_mnist_data(mnist):\n",
        "  # change values from uint8 to float32\n",
        "  mnist = mnist.map(lambda img, target: (tf.cast(img, tf.float32), target))\n",
        "  # reshape image from 3D (28,28,1) to 1D (256,)\n",
        "  mnist = mnist.map(lambda img, target: (tf.reshape(img, (-1,)), target))\n",
        "  # normalize the vectors (from 0 - 255 to -1 - 1)\n",
        "  mnist = mnist.map(lambda img, target: (((img/128.)-1.), target))\n",
        "  # create one-hot targets for each handwritten numner (0-9)\n",
        "  mnist = mnist.map(lambda img, target: (img, tf.one_hot(target, depth=10)))\n",
        "  # cache progress\n",
        "  mnist = mnist.cache()\n",
        "  # shuffle, batch, and prefetch data\n",
        "  mnist = mnist.shuffle(1000)\n",
        "  mnist = mnist.batch(32)\n",
        "  mnist = mnist.prefetch(20)\n",
        "  # return preprocessed dataset\n",
        "  return mnist\n",
        "  \n",
        "# apply method to datasets\n",
        "train_dataset = train_ds.apply(prepare_mnist_data)\n",
        "test_dataset = test_ds.apply(prepare_mnist_data)"
      ],
      "metadata": {
        "id": "bR1C1jHHLYtm"
      },
      "execution_count": null,
      "outputs": []
    },
    {
      "cell_type": "markdown",
      "source": [
        "How many training/test images are there? **60,000/10,000**. What's the image shape? **28x28x1**. What range are pixel values in? **0-255**."
      ],
      "metadata": {
        "id": "BmYU9UykVaxF"
      }
    },
    {
      "cell_type": "markdown",
      "source": [
        "\n",
        "Create network:"
      ],
      "metadata": {
        "id": "V-VaGoA-VU8o"
      }
    },
    {
      "cell_type": "code",
      "source": [
        "from tensorflow.keras.layers import Dense\n",
        "\n",
        "class MyModel(tf.keras.Model):\n",
        "    \n",
        "    def __init__(self):\n",
        "        super(MyModel, self).__init__()\n",
        "        self.dense1 = tf.keras.layers.Dense(256, activation=tf.nn.relu)\n",
        "        self.dense2 = tf.keras.layers.Dense(256, activation=tf.nn.relu)\n",
        "        self.out = tf.keras.layers.Dense(10, activation=tf.nn.softmax)\n",
        "\n",
        "    @tf.function\n",
        "    def call(self, inputs):\n",
        "        x = self.dense1(inputs)\n",
        "        x = self.dense2(x)\n",
        "        x = self.out(x)\n",
        "        return x"
      ],
      "metadata": {
        "id": "ToaqOAAOVX9a"
      },
      "execution_count": null,
      "outputs": []
    },
    {
      "cell_type": "markdown",
      "source": [
        "Create training loop:"
      ],
      "metadata": {
        "id": "yz7dCQK1AVSp"
      }
    },
    {
      "cell_type": "code",
      "source": [
        "def train_step(model, input, target,loss_function, optimizer):\n",
        "  with tf.GradientTape() as tape:\n",
        "    prediction = model(input)\n",
        "    loss = loss_function(target, prediction)\n",
        "  gradients = tape.gradient(loss, model.trainable_variables)\n",
        "  optimizer.apply_gradients(zip(gradients, model.trainable_variables))\n",
        "  return loss\n",
        "\n",
        "def test(model, test_data, loss_function):\n",
        "  # binary attribute: right (1) or wrong (0) prediction?\n",
        "  test_accuracy_aggregator = []\n",
        "  # continuous attribute: how close is the output to the target?\n",
        "  test_loss_aggregator = []\n",
        "\n",
        "  for (input, target) in test_data:\n",
        "    # prediction stays unseen to the network (does not update it's weights with respect to it)\n",
        "    prediction = model(input)\n",
        "    # same as in training: callable loss object\n",
        "    sample_test_loss = loss_function(target, prediction)\n",
        "    # is the highest value in our predicted outputs the same one as in our one-hot targets?\n",
        "    sample_test_accuracy = np.argmax(target, axis=1) == np.argmax(prediction, axis=1)\n",
        "    # average over batch size (32) -> get the mean: out of 32, how many were correct?\n",
        "    sample_test_accuracy = np.mean(sample_test_accuracy)\n",
        "    # append test losses\n",
        "    test_loss_aggregator.append(sample_test_loss.numpy())\n",
        "    # append the mean of the accuracy\n",
        "    test_accuracy_aggregator.append(np.mean(sample_test_accuracy))    \n",
        "\n",
        "  # Now we have a large list of accuracies and losses for all elements in the test data\n",
        "  \n",
        "  # Calculate mean of both loss and accuracy\n",
        "  test_loss = tf.reduce_mean(test_loss_aggregator)\n",
        "  test_accuracy = tf.reduce_mean(test_accuracy_aggregator)\n",
        "\n",
        "  return test_loss, test_accuracy"
      ],
      "metadata": {
        "id": "H7_BLmpDAX_I"
      },
      "execution_count": null,
      "outputs": []
    },
    {
      "cell_type": "markdown",
      "source": [
        "Start training:"
      ],
      "metadata": {
        "id": "DucX_dP7E7KK"
      }
    },
    {
      "cell_type": "code",
      "source": [
        "tf.keras.backend.clear_session()\n",
        "\n",
        "#For showcasing we only use a subset of the training and test data (generally use all of the available data!)\n",
        "train_dataset = train_dataset.take(1000)\n",
        "test_dataset = test_dataset.take(100)\n",
        "\n",
        "### Hyperparameters\n",
        "num_epochs = 10\n",
        "learning_rate = 0.1\n",
        "\n",
        "# Initialize the model.\n",
        "model = MyModel()\n",
        "# Initialize the loss: categorical cross entropy. Check out 'tf.keras.losses'.\n",
        "cross_entropy_loss = tf.keras.losses.CategoricalCrossentropy()\n",
        "# Initialize the optimizer: SGD with default parameters. Check out 'tf.keras.optimizers'\n",
        "optimizer = tf.keras.optimizers.SGD(learning_rate)\n",
        "\n",
        "# Initialize lists for later visualization.\n",
        "train_losses = []\n",
        "test_losses = []\n",
        "test_accuracies = []\n",
        "\n",
        "#testing once before we begin\n",
        "test_loss, test_accuracy = test(model, test_dataset, cross_entropy_loss)\n",
        "test_losses.append(test_loss)\n",
        "test_accuracies.append(test_accuracy)\n",
        "\n",
        "#check how model performs on train data once before we begin\n",
        "train_loss, _ = test(model, train_dataset, cross_entropy_loss)\n",
        "train_losses.append(train_loss)\n",
        "\n",
        "# We train for num_epochs epochs.\n",
        "for epoch in range(num_epochs):\n",
        "    print(f'Epoch: {str(epoch)} starting with accuracy {test_accuracies[-1]}')\n",
        "\n",
        "    #training (and checking in with training)\n",
        "    epoch_loss_agg = []\n",
        "    for input,target in train_dataset:\n",
        "        train_loss = train_step(model, input, target, cross_entropy_loss, optimizer)\n",
        "        epoch_loss_agg.append(train_loss)\n",
        "    \n",
        "    #track training loss\n",
        "    train_losses.append(tf.reduce_mean(epoch_loss_agg))\n",
        "\n",
        "    #testing, so we can track accuracy and test loss\n",
        "    test_loss, test_accuracy = test(model, test_dataset, cross_entropy_loss)\n",
        "    test_losses.append(test_loss)\n",
        "    test_accuracies.append(test_accuracy)"
      ],
      "metadata": {
        "colab": {
          "base_uri": "https://localhost:8080/"
        },
        "id": "umuLUFILE6yf",
        "outputId": "aecf6e04-3843-43d8-fd97-cfcbc726750c"
      },
      "execution_count": null,
      "outputs": [
        {
          "output_type": "stream",
          "name": "stdout",
          "text": [
            "Epoch: 0 starting with accuracy 0.1\n",
            "Epoch: 1 starting with accuracy 0.05\n",
            "Epoch: 2 starting with accuracy 0.06\n",
            "Epoch: 3 starting with accuracy 0.06\n",
            "Epoch: 4 starting with accuracy 0.09\n",
            "Epoch: 5 starting with accuracy 0.08\n",
            "Epoch: 6 starting with accuracy 0.09\n",
            "Epoch: 7 starting with accuracy 0.08\n",
            "Epoch: 8 starting with accuracy 0.05\n",
            "Epoch: 9 starting with accuracy 0.13\n"
          ]
        }
      ]
    },
    {
      "cell_type": "markdown",
      "source": [
        "Visualization:"
      ],
      "metadata": {
        "id": "GiY1nx11M9PK"
      }
    },
    {
      "cell_type": "code",
      "source": [
        "import matplotlib.pyplot as plt\n",
        "\n",
        "def visualization (train_losses, test_losses,\n",
        "test_accuracies):\n",
        "  plt.figure()\n",
        "  line1, = plt.plot(train_losses, \"b-\")\n",
        "  line2, = plt.plot(test_losses, \"r-\")\n",
        "  line3, = plt.plot(test_accuracies, \"r:\")\n",
        "  plt.xlabel(\" Training steps \")\n",
        "  plt.ylabel (\" Loss / Accuracy \")\n",
        "  plt.legend((line1, line2, line3), (\" training loss \", \" test loss \", \" test accuracy \"))\n",
        "  plt.show()\n",
        "\n",
        "visualization(train_losses, test_losses, test_accuracies)"
      ],
      "metadata": {
        "colab": {
          "base_uri": "https://localhost:8080/",
          "height": 282
        },
        "id": "On1m_GNrM_dL",
        "outputId": "e1489307-67ec-4ef0-addd-ba9aac88c03f"
      },
      "execution_count": 8,
      "outputs": [
        {
          "output_type": "display_data",
          "data": {
            "text/plain": [
              "<Figure size 432x288 with 1 Axes>"
            ],
            "image/png": "[encoded data removed]"
          },
          "metadata": {
            "needs_background": "light"
          }
        }
      ]
    },
    {
      "cell_type": "markdown",
      "source": [
        "#Variations:\n",
        "\n",
        "**Learning rate: 0.001 -> 0.1:** faster reduction of test loss and training loss, test loss went up a bit at the end, overall better result\n",
        "\n",
        "**Learning rate = 0.1 X Batch Size: 32 -> 64:** not much has changed, loss doesn't go up, even slightly better result\n",
        "\n",
        "**Learning rate = 0.1 X Batch Size = 1:** training loss and test loss do not get better, even higher, accuracy stays very low\n",
        "\n",
        "**Learning rate = 0.1 X Batch Size = 64 X tf.keras.layers.Dense(units=256) -> 128:** very similar, except more volatile at the end, probably disadvantageous because of the inconsistency\n",
        "\n",
        "**Learning rate = 0.1 X Batch Size = 64 X tf.keras.layers.Dense(units=256) -> 32:** very volatile, worse result, wouldn't recommend\n",
        "\n",
        "**Learning rate = 0.1 X Batch Size = 32 X tf.keras.layers.Dense(units=256, activation.nn.relu) -> tf.math.sigmoid:** comparable result to ReLU\n",
        "\n",
        "\n",
        "\n",
        "**Learning rate:** Up to a certain point, higher learning rates cause steeper declines in test and training loss. On the other side, there are more fluctations, as there is a higher risk of moving too far in the (negative) gradient direction. If the learning is too high (1 is already way too high), the network constantly overshoots in its gradient descents and does not considerably increase its accuracy during 10 epochs. The loss stays high and the accuracy low.\n",
        "\n",
        "**Available data:** The network takes way longer to train if we use all the available data and not only take 1000 training examples and 100 test examples. Why is this affecting the speed so much? Because we have to iterate through all 60,000 training and 10,000 test samples\n",
        "\n",
        "**See variation of plots here:** https://docs.google.com/document/d/1dlKWkrKuIfBjq-F9nI-VczJ88EwWX_4OhiSHYPZTIco/edit?usp=sharing"
      ],
      "metadata": {
        "id": "cRema7M5RC6R"
      }
    }
  ]
}