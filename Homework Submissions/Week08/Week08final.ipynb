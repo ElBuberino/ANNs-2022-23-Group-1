{
  "nbformat": 4,
  "nbformat_minor": 0,
  "metadata": {
    "colab": {
      "provenance": []
    },
    "kernelspec": {
      "name": "python3",
      "display_name": "Python 3"
    },
    "language_info": {
      "name": "python"
    },
    "accelerator": "GPU",
    "gpuClass": "standard"
  },
  "cells": [
    {
      "cell_type": "code",
      "source": [
        "!pip install keras_cv"
      ],
      "metadata": {
        "colab": {
          "base_uri": "https://localhost:8080/"
        },
        "id": "sL6c1hk0kSv3",
        "outputId": "a1df5e36-ba1e-4a1d-b48b-462451318238"
      },
      "execution_count": 2,
      "outputs": [
        {
          "output_type": "stream",
          "name": "stdout",
          "text": [
            "Looking in indexes: https://pypi.org/simple, https://us-python.pkg.dev/colab-wheels/public/simple/\n",
            "Collecting keras_cv\n",
            "  Downloading keras_cv-0.4.0-py3-none-any.whl (595 kB)\n",
            "\u001b[2K     \u001b[90m━━━━━━━━━━━━━━━━━━━━━━━━━━━━━━━━━━━━━━\u001b[0m \u001b[32m595.3/595.3 KB\u001b[0m \u001b[31m21.2 MB/s\u001b[0m eta \u001b[36m0:00:00\u001b[0m\n",
            "\u001b[?25hRequirement already satisfied: absl-py in /usr/local/lib/python3.8/dist-packages (from keras_cv) (1.3.0)\n",
            "Requirement already satisfied: packaging in /usr/local/lib/python3.8/dist-packages (from keras_cv) (21.3)\n",
            "Requirement already satisfied: regex in /usr/local/lib/python3.8/dist-packages (from keras_cv) (2022.6.2)\n",
            "Requirement already satisfied: pyparsing!=3.0.5,>=2.0.2 in /usr/local/lib/python3.8/dist-packages (from packaging->keras_cv) (3.0.9)\n",
            "Installing collected packages: keras_cv\n",
            "Successfully installed keras_cv-0.4.0\n"
          ]
        }
      ]
    },
    {
      "cell_type": "markdown",
      "source": [
        "# Preprocessing & Model architecture"
      ],
      "metadata": {
        "id": "qQOE_dH2nSkm"
      }
    },
    {
      "cell_type": "code",
      "execution_count": 17,
      "metadata": {
        "id": "_IWhEZH7jz8F"
      },
      "outputs": [],
      "source": [
        "import keras_cv\n",
        "import tensorflow as tf\n",
        "import tensorflow_datasets as tfds\n",
        "\n",
        "import datetime\n",
        "import tqdm\n",
        "import os\n",
        "import numpy as np\n",
        "import matplotlib.pyplot as plt\n",
        "from tensorflow.python.ops.numpy_ops import np_config\n",
        "np_config.enable_numpy_behavior()\n",
        "# from sklearn.manifold import TSNE\n",
        "\n",
        "#import mnist data\n",
        "train_ds, test_ds = tfds.load('mnist', split=['train', 'test'], as_supervised=True)\n",
        "\n",
        "def augment(x, y):\n",
        "    image = tf.image.random_brightness(x, max_delta=0.05)\n",
        "    return image, y\n",
        "\n",
        "def preprocess(data, noise_var=0.5):\n",
        "    # use only the images\n",
        "    data = data.map(lambda x, t: tf.cast(x, tf.dtypes.float32))\n",
        "    # normalize images\n",
        "    data = data.map(lambda x: ((x / 128.)-1.))\n",
        "    # add noise to images\n",
        "    noise = noise_var * tf.random.normal(shape=(28, 28, 1))\n",
        "    data = data.map(lambda o_img: (o_img + noise, o_img))\n",
        "    # clip values to range of [-1,1]\n",
        "    data = data.map(lambda n_img, o_img: (tf.clip_by_value(n_img, clip_value_min=-1, clip_value_max=1), o_img))\n",
        "    # cache, shuffle, batch, prefetch\n",
        "    data = data.cache()\n",
        "    data = data.shuffle(2000)\n",
        "    data = data.batch(32)\n",
        "    data = data.prefetch(tf.data.AUTOTUNE)\n",
        "    return data\n",
        "\n",
        "class CNN_Encoder(tf.keras.layers.Layer):\n",
        "    def __init__(self, dropout_rate):\n",
        "        super(CNN_Encoder, self).__init__()\n",
        "        # Img size: 28x28x1\n",
        "        self.conv1 = tf.keras.layers.Conv2D(filters=4, kernel_size=3, strides=(2, 2), padding='same',\n",
        "                                            activation='relu', kernel_regularizer=tf.keras.regularizers.L2)\n",
        "        self.dropout1 = tf.keras.layers.Dropout(dropout_rate)\n",
        "        # Img size: 14x14x4\n",
        "        self.conv2 = tf.keras.layers.Conv2D(filters=8, kernel_size=3, strides=(2, 2), padding='same',\n",
        "                                            activation='relu', kernel_regularizer=tf.keras.regularizers.L2)\n",
        "        self.dropout2 = tf.keras.layers.Dropout(dropout_rate)\n",
        "        self.batch_norm2 = tf.keras.layers.BatchNormalization(axis=-1)\n",
        "        # Img size: 7x7x8\n",
        "        self.flatten = tf.keras.layers.Flatten()\n",
        "        # Img size: 1x1x3136\n",
        "        self.batch_norm1 = tf.keras.layers.BatchNormalization(axis=-1)\n",
        "        self.out = tf.keras.layers.Dense(10, kernel_regularizer=tf.keras.regularizers.L2)\n",
        "        # Img size: 10\n",
        "\n",
        "    def call(self, x, training):\n",
        "        # print(x.shape)\n",
        "        x = self.conv1(x, training=training)\n",
        "        x = self.dropout1(x, training=training)\n",
        "        #x = self.batch_norm1(x, training=training)\n",
        "        # print(x.shape)\n",
        "        x = self.conv2(x, training=training)\n",
        "        x = self.dropout2(x, training=training)\n",
        "        #x = self.batch_norm2(x, training=training)\n",
        "        # print(x.shape)\n",
        "        x = self.flatten(x)\n",
        "        # print(x.shape)\n",
        "        x = self.batch_norm1(x, training=training)\n",
        "        x = self.out(x)\n",
        "        # print(x.shape)\n",
        "        return x\n",
        "\n",
        "\n",
        "class CNN_Decoder(tf.keras.layers.Layer):\n",
        "    def __init__(self, dropout_rate):\n",
        "        super(CNN_Decoder, self).__init__()\n",
        "        # Restore dimensionality\n",
        "        self.dim_restore = tf.keras.layers.Dense(3136, activation='relu', kernel_regularizer=tf.keras.regularizers.L2)\n",
        "        # Img size: 1x1x3136\n",
        "        self.reshape = tf.keras.layers.Reshape((7, 7, 64))\n",
        "        # Img size: 7x7x8\n",
        "        self.convTranspose1 = tf.keras.layers.Conv2DTranspose(filters=8, kernel_size=3, strides=(2, 2), padding='same',\n",
        "                                                              activation='relu', kernel_regularizer=tf.keras.regularizers.L2)\n",
        "        self.dropout3 = tf.keras.layers.Dropout(dropout_rate)\n",
        "        # Img size: 14x14x4\n",
        "        self.convTranspose2 = tf.keras.layers.Conv2DTranspose(filters=4, kernel_size=3, strides=(2, 2), padding='same',\n",
        "                                                              activation='relu', kernel_regularizer=tf.keras.regularizers.L2)\n",
        "        self.dropout4 = tf.keras.layers.Dropout(dropout_rate)\n",
        "        self.batch_norm2 = tf.keras.layers.BatchNormalization(axis=-1)\n",
        "        # Img size: 28x28x4\n",
        "        self.out = tf.keras.layers.Conv2D(filters=1, kernel_size=3, strides=(1, 1),\n",
        "                                          padding='same')\n",
        "        # Img size: 28x28x1\n",
        "\n",
        "    def call(self, x, training):\n",
        "        x = self.dim_restore(x)\n",
        "        # print(x.shape)\n",
        "        x = self.reshape(x)\n",
        "        # print(x.shape)\n",
        "        x = self.convTranspose1(x, training=training)\n",
        "        x = self.dropout3(x, training=training)\n",
        "        # print(x.shape)\n",
        "        x = self.convTranspose2(x, training=training)\n",
        "        x = self.dropout4(x, training=training)\n",
        "        x = self.batch_norm2(x, training=training)\n",
        "        # print(x.shape)\n",
        "        x = self.out(x)\n",
        "        # print(x.shape)\n",
        "        return x\n",
        "\n",
        "class CNN_Autoencoder(tf.keras.Model):\n",
        "    def __init__(self, dropout_rate=0.5):\n",
        "        super(CNN_Autoencoder, self).__init__()\n",
        "        # Layers\n",
        "        self.encoder = CNN_Encoder(dropout_rate)\n",
        "        self.decoder = CNN_Decoder(dropout_rate)\n",
        "\n",
        "        # Optimizer\n",
        "        self.optimizer = tf.keras.optimizers.Adam(learning_rate=0.001)\n",
        "        # Loss function\n",
        "        self.loss_function = tf.keras.losses.MeanSquaredError()\n",
        "        # Metrics\n",
        "        self.metrics_list = [tf.keras.metrics.Mean(name=\"loss\"),\n",
        "                             tf.keras.metrics.Accuracy(name=\"accuracy\")]\n",
        "\n",
        "    def call(self, x, training):\n",
        "        x = self.encoder(x, training=training)\n",
        "        x = self.decoder(x, training=training)\n",
        "        return x\n",
        "\n",
        "    @property\n",
        "    def metrics(self):\n",
        "        return self.metrics_list\n",
        "\n",
        "    def reset_metrics(self):\n",
        "        for metric in self.metrics:\n",
        "            metric.reset_states()\n",
        "\n",
        "    def train_step(self, data):\n",
        "        img, label = data\n",
        "\n",
        "        with tf.GradientTape() as tape:\n",
        "            output = self(img, training=True)\n",
        "            loss = self.loss_function(label, output)\n",
        "\n",
        "        gradients = tape.gradient(loss, self.trainable_variables)\n",
        "\n",
        "        self.optimizer.apply_gradients(zip(gradients, self.trainable_variables))\n",
        "\n",
        "        # update loss metric\n",
        "        self.metrics[0].update_state(loss)\n",
        "        for metric in self.metrics[1:]:\n",
        "            metric.update_state(label, output)\n",
        "        return {m.name: m.result() for m in self.metrics}\n",
        "\n",
        "    def test_step(self, data):\n",
        "        img, label = data\n",
        "\n",
        "        output = self(img, training=False)\n",
        "        loss = self.loss_function(label, output)\n",
        "\n",
        "        # update loss metric\n",
        "        self.metrics[0].update_state(loss)\n",
        "        for metric in self.metrics[1:]:\n",
        "            metric.update_state(label, output)\n",
        "        return {m.name: m.result() for m in self.metrics}\n",
        "\n",
        "    def predict(self, data):\n",
        "        img, label = data\n",
        "        return self(img, training=False)\n",
        "\n",
        "def metric_before_epoch(model, train_ds, test_ds, train_summary_writer, test_summary_writer):\n",
        "    print(\"\\n\")\n",
        "    print(\"Loss and accuracy before training:\")\n",
        "\n",
        "    for data in tqdm.tqdm(train_ds, position=0, leave=True):\n",
        "        metrics = model.test_step(data)\n",
        "\n",
        "\n",
        "        with train_summary_writer.as_default():\n",
        "            for metric in model.metrics:\n",
        "                tf.summary.scalar(f\"{metric.name}\", metric.result(), step=1)\n",
        "\n",
        "    # print the metrics\n",
        "    print([f\"train_{key}: {value.numpy()}\" for (key, value) in metrics.items()])\n",
        "\n",
        "    # reset all metrics\n",
        "    model.reset_metrics()\n",
        "\n",
        "    for data in tqdm.tqdm(test_ds, position=0, leave=True):\n",
        "        metrics = model.test_step(data)\n",
        "\n",
        "        # logging the validation metrics to the log file which is used by tensorboard\n",
        "        with test_summary_writer.as_default():\n",
        "            for metric in model.metrics:\n",
        "                tf.summary.scalar(f\"{metric.name}\", metric.result(), step=1)\n",
        "\n",
        "    print([f\"test_{key}: {value.numpy()}\" for (key, value) in metrics.items()])\n",
        "\n",
        "    # reset all metrics\n",
        "    model.reset_metrics()\n",
        "    print(\"\\n\")\n",
        "\n",
        "def training_loop(model, train_ds, test_ds, epochs, train_summary_writer, test_summary_writer):\n",
        "    for epoch in range(epochs):\n",
        "        print(f\"Epoch {epoch}:\")\n",
        "\n",
        "        # Training\n",
        "        for data in tqdm.tqdm(train_ds, position=0, leave=True):\n",
        "            metrics = model.train_step(data)\n",
        "\n",
        "            with train_summary_writer.as_default():\n",
        "                for metric in model.metrics:\n",
        "                    tf.summary.scalar(f\"{metric.name}\", metric.result(), step=epoch)\n",
        "\n",
        "        # print the metrics\n",
        "        print([f\"train_{key}: {value.numpy()}\" for (key, value) in metrics.items()])\n",
        "\n",
        "        # reset all metrics\n",
        "        model.reset_metrics()\n",
        "\n",
        "        # Validation\n",
        "        for data in test_ds:\n",
        "            metrics = model.test_step(data)\n",
        "\n",
        "            # logging the validation metrics to the log file which is used by tensorboard\n",
        "            with test_summary_writer.as_default():\n",
        "                for metric in model.metrics:\n",
        "                    tf.summary.scalar(f\"{metric.name}\", metric.result(), step=epoch)\n",
        "\n",
        "        print([f\"test_{key}: {value.numpy()}\" for (key, value) in metrics.items()])\n",
        "\n",
        "        # reset all metrics\n",
        "        model.reset_metrics()\n",
        "        print(\"\\n\")"
      ]
    },
    {
      "cell_type": "markdown",
      "source": [
        "# Main"
      ],
      "metadata": {
        "id": "2nNCAt5JnQfo"
      }
    },
    {
      "cell_type": "code",
      "source": [
        "\n",
        "##################### Set paths ################\n",
        "if os.path.exists('/content/drive/MyDrive/logs/'):\n",
        "    from google.colab import drive\n",
        "    path = '/content/drive/MyDrive/logs/'\n",
        "    drive.mount(path)\n",
        "else:\n",
        "    path = 'C:/Users/accou/OneDrive/Desktop/Arbeit/Studium/Master/Semester03/IANNwTF/Week08/logs'\n",
        "\n",
        "################## Preprocess the data ############\n",
        "# determine noisiness\n",
        "NOISE = 1\n",
        "train_data = preprocess(train_ds, noise_var=NOISE)\n",
        "# augment data\n",
        "train_data = train_data.map(augment)\n",
        "test_data = preprocess(test_ds, noise_var=NOISE)\n",
        "\n",
        "# show noisy image\n",
        "for n_img, o_img in train_data.take(1):\n",
        "    print(\"Tensor shape = \", n_img.shape, o_img.shape)\n",
        "\n",
        "    x = np.asarray(n_img[0, :, :, 0])\n",
        "    t = np.asarray(o_img[0, :, :, 0])\n",
        "    plt.imshow(x)\n",
        "    plt.show()\n",
        "    #plt.savefig('preprocessed_noisy_img.png', format='png')\n",
        "    plt.imshow(t)\n",
        "    plt.show()\n",
        "    #plt.savefig('preprocessed_original_img.png', format='png')\n",
        "\n",
        "# create model\n",
        "DROPOUT=0.2\n",
        "model = CNN_Autoencoder(dropout_rate=DROPOUT)\n",
        "\n",
        "# Define where to save the log\n",
        "config_name = \"Autoencoder\"\n",
        "current_time = datetime.datetime.now().strftime(\"%Y%m%d-%H%M%S\")\n",
        "\n",
        "train_log_path = f\"{path}/{config_name}/{current_time}/train\"\n",
        "test_log_path = f\"{path}/{config_name}/{current_time}/test\"\n",
        "\n",
        "# log writer for training metrics\n",
        "train_summary_writer = tf.summary.create_file_writer(train_log_path)\n",
        "\n",
        "# log writer for validation metrics\n",
        "test_summary_writer = tf.summary.create_file_writer(test_log_path)\n",
        "\n",
        "metric_before_epoch(model=model,\n",
        "                train_ds=train_data,\n",
        "                test_ds=test_data,\n",
        "                train_summary_writer=train_summary_writer,\n",
        "                test_summary_writer=test_summary_writer)\n",
        "\n",
        "training_loop(model=model,\n",
        "                train_ds=train_data,\n",
        "                test_ds=test_data,\n",
        "                epochs=10,\n",
        "                train_summary_writer=train_summary_writer,\n",
        "                test_summary_writer=test_summary_writer)"
      ],
      "metadata": {
        "colab": {
          "base_uri": "https://localhost:8080/",
          "height": 1000
        },
        "id": "3uN3e4xbnLlv",
        "outputId": "471b287a-978b-483c-99bf-169d4c40839b"
      },
      "execution_count": 18,
      "outputs": [
        {
          "output_type": "stream",
          "name": "stdout",
          "text": [
            "Tensor shape =  (32, 28, 28, 1) (32, 28, 28, 1)\n"
          ]
        },
        {
          "output_type": "display_data",
          "data": {
            "text/plain": [
              "<Figure size 432x288 with 1 Axes>"
            ],
            "image/png": "[encoded data removed]"
          },
          "metadata": {
            "needs_background": "light"
          }
        },
        {
          "output_type": "display_data",
          "data": {
            "text/plain": [
              "<Figure size 432x288 with 1 Axes>"
            ],
            "image/png": "[encoded data removed]"
          },
          "metadata": {
            "needs_background": "light"
          }
        },
        {
          "output_type": "stream",
          "name": "stdout",
          "text": [
            "\n",
            "\n",
            "Loss and accuracy before training:\n"
          ]
        },
        {
          "output_type": "stream",
          "name": "stderr",
          "text": [
            "100%|██████████| 1875/1875 [00:40<00:00, 46.45it/s]\n"
          ]
        },
        {
          "output_type": "stream",
          "name": "stdout",
          "text": [
            "['train_loss: 0.9235488772392273', 'train_accuracy: 0.0']\n"
          ]
        },
        {
          "output_type": "stream",
          "name": "stderr",
          "text": [
            "100%|██████████| 313/313 [00:06<00:00, 47.32it/s]\n"
          ]
        },
        {
          "output_type": "stream",
          "name": "stdout",
          "text": [
            "['test_loss: 0.9239558577537537', 'test_accuracy: 0.0']\n",
            "\n",
            "\n",
            "Epoch 0:\n"
          ]
        },
        {
          "output_type": "stream",
          "name": "stderr",
          "text": [
            "100%|██████████| 1875/1875 [01:07<00:00, 27.71it/s]\n"
          ]
        },
        {
          "output_type": "stream",
          "name": "stdout",
          "text": [
            "['train_loss: 0.1857258677482605', 'train_accuracy: 2.9761903874714335e-07']\n",
            "['test_loss: 0.13064266741275787', 'test_accuracy: 2.5510203727208136e-07']\n",
            "\n",
            "\n",
            "Epoch 1:\n"
          ]
        },
        {
          "output_type": "stream",
          "name": "stderr",
          "text": [
            "100%|██████████| 1875/1875 [01:21<00:00, 22.89it/s]\n"
          ]
        },
        {
          "output_type": "stream",
          "name": "stdout",
          "text": [
            "['train_loss: 0.13197986781597137', 'train_accuracy: 4.889456022283412e-07']\n",
            "['test_loss: 0.1456565111875534', 'test_accuracy: 0.0']\n",
            "\n",
            "\n",
            "Epoch 2:\n"
          ]
        },
        {
          "output_type": "stream",
          "name": "stderr",
          "text": [
            "100%|██████████| 1875/1875 [01:14<00:00, 25.02it/s]\n"
          ]
        },
        {
          "output_type": "stream",
          "name": "stdout",
          "text": [
            "['train_loss: 0.12730282545089722', 'train_accuracy: 6.164966066535271e-07']\n",
            "['test_loss: 0.14421981573104858', 'test_accuracy: 2.5510203727208136e-07']\n",
            "\n",
            "\n",
            "Epoch 3:\n"
          ]
        },
        {
          "output_type": "stream",
          "name": "stderr",
          "text": [
            "100%|██████████| 1875/1875 [01:07<00:00, 27.96it/s]\n"
          ]
        },
        {
          "output_type": "stream",
          "name": "stdout",
          "text": [
            "['train_loss: 0.12446795403957367', 'train_accuracy: 2.9761903874714335e-07']\n",
            "['test_loss: 0.12032676488161087', 'test_accuracy: 3.8265307011897676e-07']\n",
            "\n",
            "\n",
            "Epoch 4:\n"
          ]
        },
        {
          "output_type": "stream",
          "name": "stderr",
          "text": [
            "100%|██████████| 1875/1875 [01:15<00:00, 24.97it/s]\n"
          ]
        },
        {
          "output_type": "stream",
          "name": "stdout",
          "text": [
            "['train_loss: 0.1232607290148735', 'train_accuracy: 1.13732994577731e-05']\n",
            "['test_loss: 0.13037046790122986', 'test_accuracy: 3.8265307011897676e-07']\n",
            "\n",
            "\n",
            "Epoch 5:\n"
          ]
        },
        {
          "output_type": "stream",
          "name": "stderr",
          "text": [
            "100%|██████████| 1875/1875 [01:15<00:00, 24.76it/s]\n"
          ]
        },
        {
          "output_type": "stream",
          "name": "stdout",
          "text": [
            "['train_loss: 0.1223837211728096', 'train_accuracy: 4.889456022283412e-07']\n",
            "['test_loss: 0.12619885802268982', 'test_accuracy: 1.2755101863604068e-07']\n",
            "\n",
            "\n",
            "Epoch 6:\n"
          ]
        },
        {
          "output_type": "stream",
          "name": "stderr",
          "text": [
            "100%|██████████| 1875/1875 [01:21<00:00, 22.89it/s]\n"
          ]
        },
        {
          "output_type": "stream",
          "name": "stdout",
          "text": [
            "['train_loss: 0.12166450172662735', 'train_accuracy: 4.889456022283412e-07']\n",
            "['test_loss: 0.1191030740737915', 'test_accuracy: 6.377550789693487e-07']\n",
            "\n",
            "\n",
            "Epoch 7:\n"
          ]
        },
        {
          "output_type": "stream",
          "name": "stderr",
          "text": [
            "100%|██████████| 1875/1875 [01:13<00:00, 25.36it/s]\n"
          ]
        },
        {
          "output_type": "stream",
          "name": "stdout",
          "text": [
            "['train_loss: 0.12136278301477432', 'train_accuracy: 4.0391157085650775e-07']\n",
            "['test_loss: 0.13318705558776855', 'test_accuracy: 3.8265307011897676e-07']\n",
            "\n",
            "\n",
            "Epoch 8:\n"
          ]
        },
        {
          "output_type": "stream",
          "name": "stderr",
          "text": [
            "100%|██████████| 1875/1875 [02:21<00:00, 13.21it/s]\n"
          ]
        },
        {
          "output_type": "stream",
          "name": "stdout",
          "text": [
            "['train_loss: 0.12054717540740967', 'train_accuracy: 6.164966066535271e-07']\n",
            "['test_loss: 0.12128971517086029', 'test_accuracy: 7.653061402379535e-07']\n",
            "\n",
            "\n",
            "Epoch 9:\n"
          ]
        },
        {
          "output_type": "stream",
          "name": "stderr",
          "text": [
            "100%|██████████| 1875/1875 [02:21<00:00, 13.21it/s]\n"
          ]
        },
        {
          "output_type": "stream",
          "name": "stdout",
          "text": [
            "['train_loss: 0.12006150931119919', 'train_accuracy: 9.141156738223799e-07']\n",
            "['test_loss: 0.13821987807750702', 'test_accuracy: 1.6581632280576741e-06']\n",
            "\n",
            "\n"
          ]
        }
      ]
    },
    {
      "cell_type": "markdown",
      "source": [
        "# Latent space analysis"
      ],
      "metadata": {
        "id": "f7YjDBSzGBnP"
      }
    },
    {
      "cell_type": "code",
      "source": [
        "# initialize encoder as model_E\n",
        "model_E = model.encoder\n",
        "\n",
        "\n",
        "def preprocess_w_labels(data, noise_var=0.5):\n",
        "    # use only the images\n",
        "    data = data.map(lambda x, t: (tf.cast(x, tf.dtypes.float32), t))\n",
        "    # normalize images\n",
        "    data = data.map(lambda x, t: (((x / 128.)-1.), t))\n",
        "    # create one-hot targets\n",
        "    #data = data.map(lambda x, t: (x, tf.one_hot(t, depth=10)))\n",
        "    # add noise to images\n",
        "    noise = noise_var * tf.random.normal(shape=(28, 28, 1))\n",
        "    data = data.map(lambda x, t: (x + noise, t))\n",
        "    # clip values to range of [-1,1]\n",
        "    data = data.map(lambda x, t: (tf.clip_by_value(x, clip_value_min=-1, clip_value_max=1), t))\n",
        "    # cache, shuffle, batch, prefetch\n",
        "    data = data.cache()\n",
        "    data = data.shuffle(2000)\n",
        "    data = data.batch(32)\n",
        "    data = data.prefetch(tf.data.AUTOTUNE)\n",
        "    return data\n",
        "\n",
        "#create labeled dataset\n",
        "val_data = preprocess_w_labels(test_ds, noise_var=1)"
      ],
      "metadata": {
        "id": "PpP1IdnU-kO4"
      },
      "execution_count": 120,
      "outputs": []
    },
    {
      "cell_type": "code",
      "source": [
        "for x,t in val_data.take(1):\n",
        "    print(x.shape, t.shape)"
      ],
      "metadata": {
        "colab": {
          "base_uri": "https://localhost:8080/"
        },
        "id": "nIhcLU1zGYqf",
        "outputId": "e08a0cf6-a98c-43c5-a1b6-6af841238f4e"
      },
      "execution_count": 124,
      "outputs": [
        {
          "output_type": "stream",
          "name": "stdout",
          "text": [
            "(32, 28, 28, 1) (32,)\n"
          ]
        }
      ]
    },
    {
      "cell_type": "code",
      "source": [
        "from sklearn.manifold import TSNE\n",
        "\n",
        "# take 32 datasets (aka 1024 images because we have a batch size of 32) \n",
        "var = val_data.take(32)\n",
        "img = []\n",
        "label = []\n",
        "for x, t in var:\n",
        "    img.append(model_E(x))\n",
        "    label.append(t)\n",
        "\n",
        "# concat on batch axis and convert to numpy array\n",
        "img = tf.concat(img, axis=0)\n",
        "img = img.numpy()\n",
        "label = tf.concat(label, axis=0)\n",
        "label = label.numpy()\n",
        "\n",
        "# build t-SNE\n",
        "tsne_img = TSNE(n_components=2, learning_rate='auto', init='random', perplexity=3).fit_transform(img)\n",
        "tsne_img.shape"
      ],
      "metadata": {
        "colab": {
          "base_uri": "https://localhost:8080/"
        },
        "id": "ZDfij7DQkGSc",
        "outputId": "74b63004-ccb9-4ff4-e939-12e70757d8aa"
      },
      "execution_count": 133,
      "outputs": [
        {
          "output_type": "execute_result",
          "data": {
            "text/plain": [
              "(1024, 2)"
            ]
          },
          "metadata": {},
          "execution_count": 133
        }
      ]
    },
    {
      "cell_type": "code",
      "source": [
        "# plot t-SNE\n",
        "colors = ['red','green','blue','purple', 'orange', 'brown', 'pink', 'gray', 'olive', 'cyan']\n",
        "plt.scatter(tsne_img[:,0], tsne_img[:,1], c=label, cmap=matplotlib.colors.ListedColormap(colors))\n",
        "cb = plt.colorbar()\n",
        "loc = np.arange(0,max(label),max(label)/float(len(colors)))\n",
        "cb.set_ticks(loc)\n",
        "cb.set_ticklabels(['0','1','2','3','4','5','6','7','8','9'])"
      ],
      "metadata": {
        "colab": {
          "base_uri": "https://localhost:8080/",
          "height": 267
        },
        "id": "AqOYfO0tOyU2",
        "outputId": "05f7716b-86a0-4160-bcc4-9dbc5b99dcb1"
      },
      "execution_count": 138,
      "outputs": [
        {
          "output_type": "display_data",
          "data": {
            "text/plain": [
              "<Figure size 432x288 with 2 Axes>"
            ],
            "image/png": "[encoded data removed]"
          },
          "metadata": {
            "needs_background": "light"
          }
        }
      ]
    }
  ]
}